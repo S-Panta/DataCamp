{
  "nbformat": 4,
  "nbformat_minor": 0,
  "metadata": {
    "colab": {
      "name": "Email splitter .ipynb",
      "provenance": []
    },
    "kernelspec": {
      "name": "python3",
      "display_name": "Python 3"
    },
    "language_info": {
      "name": "python"
    }
  },
  "cells": [
    {
      "cell_type": "markdown",
      "source": [
        "Email splitter for separating the username and domain name"
      ],
      "metadata": {
        "id": "BzxiteLZGLp-"
      }
    },
    {
      "cell_type": "code",
      "source": [
        "Email=input(\"Enter the email address:\")\n",
        "if(len(Email.split('@'))==2):\n",
        "  username=Email.split('@')[0]\n",
        "  domain=Email.split('@')[1].split('.')[0]\n",
        "  print(\"Username:\",username)\n",
        "  print(\"Domain name:\",domain)\n",
        "else:\n",
        "  print(\"Invalid input\")"
      ],
      "metadata": {
        "colab": {
          "base_uri": "https://localhost:8080/"
        },
        "id": "PnalITnkGgUO",
        "outputId": "1f07cd12-cf2c-4400-c28b-6846415b6966"
      },
      "execution_count": 28,
      "outputs": [
        {
          "output_type": "stream",
          "name": "stdout",
          "text": [
            "Enter the email address:sabin@gmail.com\n",
            "Username: sabin\n",
            "Domain name: gmail\n"
          ]
        }
      ]
    }
  ]
}