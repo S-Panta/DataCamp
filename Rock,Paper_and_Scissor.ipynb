{
  "nbformat": 4,
  "nbformat_minor": 0,
  "metadata": {
    "colab": {
      "name": "Rock,Paper and Scissor.ipynb",
      "provenance": [],
      "collapsed_sections": []
    },
    "kernelspec": {
      "name": "python3",
      "display_name": "Python 3"
    },
    "language_info": {
      "name": "python"
    }
  },
  "cells": [
    {
      "cell_type": "markdown",
      "source": [
        "Rock, Paper and Scissor\n"
      ],
      "metadata": {
        "id": "m7nbUsz5YAgQ"
      }
    },
    {
      "cell_type": "code",
      "execution_count": null,
      "metadata": {
        "colab": {
          "base_uri": "https://localhost:8080/"
        },
        "id": "T6aM9vKTX_qt",
        "outputId": "ae1ceb15-a7ed-4e9e-8a06-1c3edc2fecdf"
      },
      "outputs": [
        {
          "output_type": "stream",
          "name": "stdout",
          "text": [
            "S\n"
          ]
        }
      ],
      "source": [
        "import random\n",
        "game=['R','P','S']\n",
        "computer_action=random.choice(game)\n",
        "print(computer_action)\n",
        "user_action=input(\"Rock Paper Scissor(R/P/S):\").upper()\n",
        "if user_action == computer_action:\n",
        "    print(f\"Both players selected {user_action}. It's a tie!\")\n",
        "elif user_action == \"R\":\n",
        "    if computer_action == \"S\":\n",
        "        print(\"Rock smashes scissors! You win!\")\n",
        "    else:\n",
        "        print(\"Paper covers rock! You lose.\")\n",
        "elif user_action == \"P\":\n",
        "    if computer_action == \"R\":\n",
        "        print(\"Paper covers rock! You win!\")\n",
        "    else:\n",
        "        print(\"Scissors cuts paper! You lose.\")\n",
        "elif user_action == \"S\":\n",
        "    if computer_action == \"P\":\n",
        "        print(\"Scissors cuts paper! You win!\")\n",
        "    else:\n",
        "        print(\"Rock smashes scissors! You lose.\")\n",
        "\n"
      ]
    }
  ]
}